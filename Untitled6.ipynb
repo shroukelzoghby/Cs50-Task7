{
 "cells": [
  {
   "cell_type": "code",
   "execution_count": 1,
   "id": "cff609c1",
   "metadata": {},
   "outputs": [
    {
     "name": "stdout",
     "output_type": "stream",
     "text": [
      "what's your name?shrouk\n",
      "hello,shrouk\n"
     ]
    }
   ],
   "source": [
    "answer = input(\"what's your name?\")\n",
    "print('hello,'+answer)"
   ]
  },
  {
   "cell_type": "code",
   "execution_count": 2,
   "id": "48436798",
   "metadata": {},
   "outputs": [
    {
     "name": "stdout",
     "output_type": "stream",
     "text": [
      "meow\n",
      "meow\n",
      "meow\n"
     ]
    }
   ],
   "source": [
    "i=0\n",
    "while i<3:\n",
    "    print(\"meow\")\n",
    "    i+=1"
   ]
  },
  {
   "cell_type": "code",
   "execution_count": 3,
   "id": "34e50333",
   "metadata": {},
   "outputs": [
    {
     "name": "stdout",
     "output_type": "stream",
     "text": [
      "HI!\n",
      "HI!\n",
      "HI!\n",
      "HI!\n",
      "HI!\n",
      "HI!\n",
      "HI!\n",
      "HI!\n",
      "HI!\n",
      "HI!\n"
     ]
    }
   ],
   "source": [
    "for i in range(10):\n",
    "    print(\"HI!\")"
   ]
  },
  {
   "cell_type": "code",
   "execution_count": 4,
   "id": "d2edbe27",
   "metadata": {},
   "outputs": [
    {
     "name": "stdout",
     "output_type": "stream",
     "text": [
      "<class 'float'>\n"
     ]
    }
   ],
   "source": [
    "num=1.5\n",
    "print(type(num))"
   ]
  },
  {
   "cell_type": "code",
   "execution_count": 8,
   "id": "eae2de7a",
   "metadata": {},
   "outputs": [
    {
     "name": "stdout",
     "output_type": "stream",
     "text": [
      "[10, 'ali', 4.5, True]\n",
      "(1, 2, 1, 6, 3)\n",
      "{1, 4, 5, 6}\n",
      "shrouk\n"
     ]
    }
   ],
   "source": [
    "#type  brackets    ordered  mutable  duplicates            use \n",
    "#list  []          yes      yes      yes                   عام\n",
    "#tuple ()          yes      no       yes                  الاحداثيات    \n",
    "#set   {}          no       no       no                    العمليات الرياضية\n",
    "#dict  {key:value} key      yes      nokeys , yes values   قواعد البيانات\n",
    "x=[10,\"ali\",4.5,True] #list\n",
    "print(x)\n",
    "y=(1,2,1,6,3) #tuple\n",
    "print(y)\n",
    "z={1,4,5,6} #set\n",
    "print(z)\n",
    "person={\"name\":\"shrouk\",\"Age\":20} #dict\n",
    "print(person[\"name\"])\n"
   ]
  },
  {
   "cell_type": "code",
   "execution_count": 10,
   "id": "b6600f97",
   "metadata": {},
   "outputs": [
    {
     "name": "stdout",
     "output_type": "stream",
     "text": [
      "number: hello\n",
      "invalid value\n"
     ]
    }
   ],
   "source": [
    "try:\n",
    "    number=int(input(\"number: \"))\n",
    "    print(number)\n",
    "except:\n",
    "    print(\"invalid value\")"
   ]
  },
  {
   "cell_type": "code",
   "execution_count": 12,
   "id": "f2000668",
   "metadata": {},
   "outputs": [
    {
     "name": "stdout",
     "output_type": "stream",
     "text": [
      "hello shrouk\n"
     ]
    }
   ],
   "source": [
    "def hello():\n",
    "    print(\"hello \" + answer)\n",
    "\n",
    "hello()"
   ]
  },
  {
   "cell_type": "code",
   "execution_count": 15,
   "id": "8ed311f1",
   "metadata": {},
   "outputs": [
    {
     "name": "stdout",
     "output_type": "stream",
     "text": [
      "n: 3\n",
      "odd\n"
     ]
    }
   ],
   "source": [
    "n=int(input(\"n: \"))\n",
    "if n % 2 == 0:\n",
    "    print(\"even\")\n",
    "else:\n",
    "    print(\"odd\")"
   ]
  },
  {
   "cell_type": "code",
   "execution_count": 23,
   "id": "50cd08fa",
   "metadata": {},
   "outputs": [
    {
     "name": "stdout",
     "output_type": "stream",
     "text": [
      "DO YOU AGREE? YES\n",
      "Agreed!\n"
     ]
    }
   ],
   "source": [
    "#Agree\n",
    "s=input(\"DO YOU AGREE? \").lower()\n",
    "if s in [\"y\",\"yes\"] :\n",
    "    print(\"Agreed!\")\n",
    "elif s in [\"no\",\"n\"] :\n",
    "    print(\"Not Agreed!\")"
   ]
  },
  {
   "cell_type": "code",
   "execution_count": 24,
   "id": "9b0c5e39",
   "metadata": {},
   "outputs": [
    {
     "name": "stdout",
     "output_type": "stream",
     "text": [
      "score: 10\n",
      "score: 20\n",
      "score: 30\n",
      "Average20.0\n"
     ]
    }
   ],
   "source": [
    "scores=[]\n",
    "for i in range (3):\n",
    "    score = int(input(\"score: \"))\n",
    "    scores.append(score)\n",
    "print(f\"Average{sum(scores)/len(scores)}\")"
   ]
  },
  {
   "cell_type": "code",
   "execution_count": 25,
   "id": "f408b088",
   "metadata": {},
   "outputs": [
    {
     "name": "stdout",
     "output_type": "stream",
     "text": [
      "before: sherouqq\n",
      "after:SHEROUQQ\n"
     ]
    }
   ],
   "source": [
    "before=input(\"before: \")\n",
    "print(f\"after:{before.upper()}\")"
   ]
  },
  {
   "cell_type": "code",
   "execution_count": 27,
   "id": "4f8a8cc5",
   "metadata": {},
   "outputs": [
    {
     "name": "stdout",
     "output_type": "stream",
     "text": [
      "3.9.12 (main, Apr  4 2022, 05:22:27) [MSC v.1916 64 bit (AMD64)]\n",
      "win32\n"
     ]
    }
   ],
   "source": [
    "import sys \n",
    "print(sys.version)\n",
    "print(sys.platform)\n"
   ]
  },
  {
   "cell_type": "code",
   "execution_count": 33,
   "id": "363604b0",
   "metadata": {},
   "outputs": [
    {
     "name": "stdout",
     "output_type": "stream",
     "text": [
      "Found\n"
     ]
    },
    {
     "ename": "SystemExit",
     "evalue": "0",
     "output_type": "error",
     "traceback": [
      "An exception has occurred, use %tb to see the full traceback.\n",
      "\u001b[1;31mSystemExit\u001b[0m\u001b[1;31m:\u001b[0m 0\n"
     ]
    }
   ],
   "source": [
    "import sys\n",
    "n= [1,2,3,4,5,0]\n",
    "if 0 in n:\n",
    "    print(\"Found\")\n",
    "    sys.exit(0)\n",
    "print(\"Not Found\")\n",
    "sys.exit(1)"
   ]
  },
  {
   "cell_type": "code",
   "execution_count": null,
   "id": "78d52627",
   "metadata": {},
   "outputs": [],
   "source": []
  }
 ],
 "metadata": {
  "kernelspec": {
   "display_name": "Python 3 (ipykernel)",
   "language": "python",
   "name": "python3"
  },
  "language_info": {
   "codemirror_mode": {
    "name": "ipython",
    "version": 3
   },
   "file_extension": ".py",
   "mimetype": "text/x-python",
   "name": "python",
   "nbconvert_exporter": "python",
   "pygments_lexer": "ipython3",
   "version": "3.9.12"
  }
 },
 "nbformat": 4,
 "nbformat_minor": 5
}
